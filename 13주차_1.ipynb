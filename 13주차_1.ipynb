{
  "nbformat": 4,
  "nbformat_minor": 0,
  "metadata": {
    "colab": {
      "provenance": [],
      "authorship_tag": "ABX9TyNgqcZKGTKYTnh9DlD21FQq",
      "include_colab_link": true
    },
    "kernelspec": {
      "name": "python3",
      "display_name": "Python 3"
    },
    "language_info": {
      "name": "python"
    }
  },
  "cells": [
    {
      "cell_type": "markdown",
      "metadata": {
        "id": "view-in-github",
        "colab_type": "text"
      },
      "source": [
        "<a href=\"https://colab.research.google.com/github/leetaebeom/python_tb/blob/main/13%EC%A3%BC%EC%B0%A8_1.ipynb\" target=\"_parent\"><img src=\"https://colab.research.google.com/assets/colab-badge.svg\" alt=\"Open In Colab\"/></a>"
      ]
    },
    {
      "cell_type": "code",
      "execution_count": null,
      "metadata": {
        "id": "187H03BmWdhL"
      },
      "outputs": [],
      "source": [
        "import xml.etree.ElementTree as ET\n",
        "\n",
        "tree = ET.parse(\"menu.xml\")  # menu.xml은 같은 디렉토리에 있어야 함\n",
        "root = tree.getroot()\n",
        "\n",
        "print(type(root))\n"
      ]
    },
    {
      "cell_type": "code",
      "source": [
        "print(\"menu 하위 태그 수:\", len(root))  # 예: breakfast, lunch, dinner\n",
        "print(\"breakfast의 item 수:\", len(root[0]))  # breakfast의 하위 태그들 (item)\n"
      ],
      "metadata": {
        "id": "ovUxq_Z_XXQ9"
      },
      "execution_count": null,
      "outputs": []
    },
    {
      "cell_type": "code",
      "source": [
        "lunch = root.find('lunch')\n",
        "print(type(lunch))\n",
        "\n",
        "for item in lunch.findall('item'):\n",
        "    print(\"음식:\", item.text)\n",
        "    print(\"가격:\", item.get(\"price\"))\n"
      ],
      "metadata": {
        "id": "A7yN1bxnXZK0"
      },
      "execution_count": null,
      "outputs": []
    },
    {
      "cell_type": "code",
      "source": [
        "import json\n",
        "\n",
        "j1 = {\"name\": \"홍길동\", \"birth\": \"0525\", \"age\": 30}\n",
        "\n",
        "# JSON 문자열로 변환\n",
        "json_str = json.dumps(j1)\n",
        "print(\"JSON 문자열:\", json_str)\n",
        "\n",
        "# 들여쓰기 적용\n",
        "print(\"Pretty JSON:\\n\", json.dumps(j1, indent=2))\n"
      ],
      "metadata": {
        "id": "IgZmyrxKXaWy"
      },
      "execution_count": null,
      "outputs": []
    },
    {
      "cell_type": "code",
      "source": [
        "parsed = json.loads(json_str)\n",
        "print(\"파싱된 파이썬 객체:\", parsed)\n",
        "print(\"타입:\", type(parsed))\n"
      ],
      "metadata": {
        "id": "0LJRoFqNXa90"
      },
      "execution_count": null,
      "outputs": []
    },
    {
      "cell_type": "code",
      "source": [
        "with open(\"myinfo.json\", \"w\", encoding=\"utf-8\") as f:\n",
        "    json.dump(j1, f)\n",
        "\n",
        "with open(\"myinfo.json\", \"r\", encoding=\"utf-8\") as f:\n",
        "    data = json.load(f)\n",
        "\n",
        "print(\"파일에서 읽은 데이터:\", data)\n"
      ],
      "metadata": {
        "id": "T0HsVJYmXcFK"
      },
      "execution_count": null,
      "outputs": []
    },
    {
      "cell_type": "code",
      "source": [
        "from urllib.request import urlopen\n",
        "from bs4 import BeautifulSoup\n",
        "\n",
        "html = urlopen(\"http://pythonscraping.com/pages/page1.html\")\n",
        "bsObj = BeautifulSoup(html.read(), \"html.parser\")\n",
        "\n",
        "print(bsObj.h1)\n",
        "print(bsObj.body.h1)\n",
        "print(bsObj.html.body.h1)\n"
      ],
      "metadata": {
        "id": "iBDK3JUzXc1H"
      },
      "execution_count": null,
      "outputs": []
    }
  ]
}